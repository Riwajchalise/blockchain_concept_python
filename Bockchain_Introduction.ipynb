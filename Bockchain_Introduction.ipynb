{
 "cells": [
  {
   "cell_type": "markdown",
   "metadata": {},
   "source": [
    "# What is blockchain?\n",
    "=>As the name indicates blockchain in the chain of blocks that contains information.It is a distributed and decentralized ledger that is completely open to anyone.\n",
    "\n",
    "\n",
    "## Block \n",
    "=>A block is a container that contains data which is secured by unique ID called hash.\n",
    "\n",
    "\n",
    "## Hash\n",
    "=>A hash is the unique ID that identifies block and all of its content; it is always unique just like a fingerprint.\n"
   ]
  },
  {
   "cell_type": "markdown",
   "metadata": {},
   "source": [
    "#### NOTE\n",
    "Once a block is created, its hash is created using the content inside the block and the hash of the previous block; tampering with the data inside any block will bring the change in the hash of the tampered block and the following blocks. Hence, hash is very useful to detect changes in the data inside blocks."
   ]
  },
  {
   "cell_type": "markdown",
   "metadata": {},
   "source": [
    "##### Watch the video below to get the basic idea about blockchain technology. If you are don't see the video below or if you are viewing this on github follow this link -> https://www.youtube.com/watch?v=SSo_EIwHSd4\n"
   ]
  },
  {
   "cell_type": "code",
   "execution_count": 264,
   "metadata": {},
   "outputs": [
    {
     "data": {
      "text/html": [
       "<iframe width=\"560\" height=\"315\" src=\"https://www.youtube.com/embed/SSo_EIwHSd4?rel=0\" frameborder=\"0\" allow=\"autoplay; encrypted-media\" allowfullscreen></iframe>"
      ],
      "text/plain": [
       "<IPython.core.display.HTML object>"
      ]
     },
     "execution_count": 264,
     "metadata": {},
     "output_type": "execute_result"
    }
   ],
   "source": [
    "from IPython.display import HTML #this code is used to embed the video. You can ignore this cell!\n",
    "HTML('<iframe width=\"560\" height=\"315\" src=\"https://www.youtube.com/embed/SSo_EIwHSd4?rel=0\" frameborder=\"0\" allow=\"autoplay; encrypted-media\" allowfullscreen></iframe>')"
   ]
  },
  {
   "cell_type": "markdown",
   "metadata": {},
   "source": [
    "Lets look at the concept of blockchain in python."
   ]
  },
  {
   "cell_type": "markdown",
   "metadata": {},
   "source": [
    "# Hash\n",
    "Here, sha3_256 is the hashing algorithm that is used in this demonstration. This hashing algorithm is also used in bitcoin. Other hashing algorithms can also be used according to the security requirements. "
   ]
  },
  {
   "cell_type": "code",
   "execution_count": 265,
   "metadata": {},
   "outputs": [],
   "source": [
    "#Importing a hash library that holds hash algorithms, methods and functions.\n",
    "import hashlib "
   ]
  },
  {
   "cell_type": "markdown",
   "metadata": {},
   "source": [
    "The cell below contains code that is used to get a hash key for string \"intro on blockchain\".  "
   ]
  },
  {
   "cell_type": "code",
   "execution_count": 266,
   "metadata": {},
   "outputs": [
    {
     "name": "stdout",
     "output_type": "stream",
     "text": [
      "The hash key of \"intro on blockchain\" is :- 6577db7592d42bc4d59cf88f4a9036d52bd877a80b6fc86321a0a4848ceb0260\n"
     ]
    }
   ],
   "source": [
    "m = hashlib.sha3_256() \n",
    "m.update(b'intro on blockchain')\n",
    "hash1= m.hexdigest() #Generates a hexadecimal hash key\n",
    "print('The hash key of \"intro on blockchain\" is :-', hash1)"
   ]
  },
  {
   "cell_type": "markdown",
   "metadata": {},
   "source": [
    "The cell below contains code that is used to get a hash key for string \"Intro on blockchain\".  "
   ]
  },
  {
   "cell_type": "code",
   "execution_count": 267,
   "metadata": {},
   "outputs": [
    {
     "name": "stdout",
     "output_type": "stream",
     "text": [
      "The hash key of \"Intro on blockchain\" is :- 3101269924f48e855c6d92ef125237e396ec030baa9e9338dce6dd30de967cbb\n"
     ]
    }
   ],
   "source": [
    "n = hashlib.sha3_256()\n",
    "n.update(b'Intro on blockchain')\n",
    "hash2 = n.hexdigest() #Generates a hexadecimal hash key\n",
    "print('The hash key of \"Intro on blockchain\" is :-', hash2)"
   ]
  },
  {
   "cell_type": "code",
   "execution_count": 268,
   "metadata": {},
   "outputs": [
    {
     "name": "stdout",
     "output_type": "stream",
     "text": [
      "The hash key of \"intro on blockchain\" is :- 6577db7592d42bc4d59cf88f4a9036d52bd877a80b6fc86321a0a4848ceb0260\n",
      "The hash key of \"Intro on blockchain\" is :- 3101269924f48e855c6d92ef125237e396ec030baa9e9338dce6dd30de967cbb\n"
     ]
    }
   ],
   "source": [
    "print('The hash key of \"intro on blockchain\" is :-', hash1)\n",
    "print('The hash key of \"Intro on blockchain\" is :-', hash2)"
   ]
  },
  {
   "cell_type": "markdown",
   "metadata": {},
   "source": [
    "# WOW!!!\n",
    "Just by altering a single character (\"i\" with \"I\") in the first string \"intro on blockchain\"  generated a completely new and unique set of hash key in the latter case. So, it won't be wrong to say that the comparison between a verry large piece of similar information or data can be done using hashing!"
   ]
  },
  {
   "cell_type": "code",
   "execution_count": 269,
   "metadata": {},
   "outputs": [],
   "source": [
    "#Lets look at the size of a hash\n",
    "a = m.digest_size #size of hash of first string\n",
    "b = n.digest_size #size of hash ofsecond string"
   ]
  },
  {
   "cell_type": "code",
   "execution_count": 270,
   "metadata": {},
   "outputs": [
    {
     "name": "stdout",
     "output_type": "stream",
     "text": [
      "The size of hash generated by sha3_256 is :- 32\n",
      "The size of hash generated by sha3_256 is :- 32\n",
      "The size of hash generated by sha3_256 is :- 32\n"
     ]
    }
   ],
   "source": [
    "print (\"The size of hash generated by sha3_256 is :-\", hashlib.sha3_256().digest_size)\n",
    "print (\"The size of hash generated by sha3_256 is :-\", a)\n",
    "print (\"The size of hash generated by sha3_256 is :-\", b)"
   ]
  },
  {
   "cell_type": "markdown",
   "metadata": {},
   "source": [
    "All the hash key generated by sha3_256 has the total size 256 bit. The size of a hash may vary according to the kind of algorithm used.\n",
    "###### NOTE:- \"longer hash keys are complex to decode and provides better security, but takes bigger storage size compared to  smaller ones.\"  "
   ]
  },
  {
   "cell_type": "markdown",
   "metadata": {},
   "source": [
    "# Blocks\n",
    "=> Blocks in our case is going to be a dictionary. In the example below a block contains all the transaction of money between different people.\n",
    "Let us assume the total money in the market is 60."
   ]
  },
  {
   "cell_type": "code",
   "execution_count": 271,
   "metadata": {},
   "outputs": [
    {
     "name": "stdout",
     "output_type": "stream",
     "text": [
      "{'transaction': [{'from': 'Adesh', 'to': 'Awaj', 'amount': 50}, {'from': 'Awaj', 'to': 'Pranjal', 'amount': 40}, {'from': 'Pranjal', 'to': 'Robin', 'amount': 30}, {'from': 'Robin', 'to': 'Subham', 'amount': 20}, {'from': 'Robin', 'to': 'Sudharsan', 'amount': 10, 'message': 'Thanks'}]}\n"
     ]
    }
   ],
   "source": [
    "block1 = {\n",
    "    'transaction': [\n",
    "        {\n",
    "            'from' : 'Adesh',\n",
    "            'to' : 'Awaj',\n",
    "            'amount' : 50\n",
    "        },\n",
    "        {\n",
    "            'from' : 'Awaj',\n",
    "            'to' : 'Pranjal',\n",
    "            'amount' : 40\n",
    "        },\n",
    "        {\n",
    "            'from' : 'Pranjal',\n",
    "            'to' : 'Robin',\n",
    "            'amount' : 30\n",
    "        },\n",
    "        {\n",
    "            'from' : 'Robin',\n",
    "            'to' : 'Subham',\n",
    "            'amount' : 20\n",
    "        },\n",
    "        {\n",
    "            'from' : 'Robin',\n",
    "            'to' : 'Sudharsan',\n",
    "            'amount' : 10,\n",
    "            'message' : 'Thanks'\n",
    "        },\n",
    "    ]\n",
    "}\n",
    "\n",
    "print (block1)"
   ]
  },
  {
   "cell_type": "markdown",
   "metadata": {},
   "source": [
    "Pickel is a python library that we use to convert objects into byte string. The byte string is then used to get the hash key of dictionary. To know more about the pickle library refer this link -> https://pythontips.com/2013/08/02/what-is-pickle-in-python/"
   ]
  },
  {
   "cell_type": "code",
   "execution_count": 272,
   "metadata": {},
   "outputs": [],
   "source": [
    "import pickle"
   ]
  },
  {
   "cell_type": "code",
   "execution_count": 273,
   "metadata": {},
   "outputs": [
    {
     "name": "stdout",
     "output_type": "stream",
     "text": [
      "The byte string of the dictionary is:- \n",
      " b'\\x80\\x03}q\\x00X\\x0b\\x00\\x00\\x00transactionq\\x01]q\\x02(}q\\x03(X\\x04\\x00\\x00\\x00fromq\\x04X\\x05\\x00\\x00\\x00Adeshq\\x05X\\x02\\x00\\x00\\x00toq\\x06X\\x04\\x00\\x00\\x00Awajq\\x07X\\x06\\x00\\x00\\x00amountq\\x08K2u}q\\t(h\\x04h\\x07h\\x06X\\x07\\x00\\x00\\x00Pranjalq\\nh\\x08K(u}q\\x0b(h\\x04h\\nh\\x06X\\x05\\x00\\x00\\x00Robinq\\x0ch\\x08K\\x1eu}q\\r(h\\x04h\\x0ch\\x06X\\x06\\x00\\x00\\x00Subhamq\\x0eh\\x08K\\x14u}q\\x0f(h\\x04h\\x0ch\\x06X\\t\\x00\\x00\\x00Sudharsanq\\x10h\\x08K\\nX\\x07\\x00\\x00\\x00messageq\\x11X\\x06\\x00\\x00\\x00Thanksq\\x12ues.'\n"
     ]
    }
   ],
   "source": [
    "a = pickle.dumps(block1)\n",
    "print(\"The byte string of the dictionary is:- \\n\", a)"
   ]
  },
  {
   "cell_type": "code",
   "execution_count": 274,
   "metadata": {},
   "outputs": [
    {
     "name": "stdout",
     "output_type": "stream",
     "text": [
      "The hash key of the block is :- f200c2eb529d2c63479cec22c62616b63a5f89080cd3fd461b7dd63e8494cbb7\n"
     ]
    }
   ],
   "source": [
    "m = hashlib.sha3_256() \n",
    "m.update(a)\n",
    "hash3 = m.hexdigest() #Generates a hexadecimal hash key\n",
    "print('The hash key of the block is :-', hash3)"
   ]
  },
  {
   "cell_type": "markdown",
   "metadata": {},
   "source": [
    "Now lets see an act of vandalism in the transection above!"
   ]
  },
  {
   "cell_type": "code",
   "execution_count": 275,
   "metadata": {},
   "outputs": [],
   "source": [
    "#pranjal's copy of laser\n",
    "block2 = {\n",
    "    'transaction': [\n",
    "        {\n",
    "            'from' : 'Adesh',\n",
    "            'to' : 'Awaj',\n",
    "            'amount' : 50\n",
    "        },\n",
    "        {\n",
    "            'from' : 'Awaj',\n",
    "            'to' : 'Pranjal',\n",
    "            'amount' : 4000000\n",
    "        },\n",
    "        {\n",
    "            'from' : 'Pranjal',\n",
    "            'to' : 'Robin',\n",
    "            'amount' : 30\n",
    "        },\n",
    "        {\n",
    "            'from' : 'Robin',\n",
    "            'to' : 'Subham',\n",
    "            'amount' : 20\n",
    "        },\n",
    "        {\n",
    "            'from' : 'Robin',\n",
    "            'to' : 'Sudharsan',\n",
    "            'amount' : 10,\n",
    "            'message' : 'Thanks'\n",
    "        },\n",
    "    ]\n",
    "}\n"
   ]
  },
  {
   "cell_type": "markdown",
   "metadata": {},
   "source": [
    "Let us assume Pranjal is a naive hacker and he tried to fake the transaction amount by changing the amount he received in his copy of laser (block) to become rich overnight, but little did he know about some basic rule of economics and the blockchain technology. In blockchain, everyone receives a copy of laser making this system a decentralized and a distributed system based on consensus. So to fake this transaction Pranjal should have done the following things:-\n",
    "###### 1) Increase the amount of money in the market >= 4000050 (Basic economics).\n",
    "###### 2) Redo the proof of work for all the blocks.[we will see later what proof of work is] \n",
    "###### 3) Take control of more than 50% of peer to peer network (Coz in blockchain majority wins.)\n",
    "He should have done these things in a very short interval of time. If he hacked bitcoin he should have done this in less then 10 minutes, and if he were to hack etherium he would have less than 30 seconds because bitcoin creates a block in every 10 minutes and etherium in every 30 seconds. Lets not talk about the computation power he would require to do this job, combining all the supercomputer on earth would not have been enough. So tampering with data in his copy of laser is as naive as his hacking skills. "
   ]
  },
  {
   "cell_type": "code",
   "execution_count": 276,
   "metadata": {},
   "outputs": [
    {
     "name": "stdout",
     "output_type": "stream",
     "text": [
      "b'\\x80\\x03}q\\x00X\\x0b\\x00\\x00\\x00transactionq\\x01]q\\x02(}q\\x03(X\\x04\\x00\\x00\\x00fromq\\x04X\\x05\\x00\\x00\\x00Adeshq\\x05X\\x02\\x00\\x00\\x00toq\\x06X\\x04\\x00\\x00\\x00Awajq\\x07X\\x06\\x00\\x00\\x00amountq\\x08K2u}q\\t(h\\x04h\\x07h\\x06X\\x07\\x00\\x00\\x00Pranjalq\\nh\\x08J\\x00\\t=\\x00u}q\\x0b(h\\x04h\\nh\\x06X\\x05\\x00\\x00\\x00Robinq\\x0ch\\x08K\\x1eu}q\\r(h\\x04h\\x0ch\\x06X\\x06\\x00\\x00\\x00Subhamq\\x0eh\\x08K\\x14u}q\\x0f(h\\x04h\\x0ch\\x06X\\t\\x00\\x00\\x00Sudharsanq\\x10h\\x08K\\nX\\x07\\x00\\x00\\x00messageq\\x11X\\x06\\x00\\x00\\x00Thanksq\\x12ues.'\n"
     ]
    }
   ],
   "source": [
    "\n",
    "b = pickle.dumps(block2)\n",
    "print(b)"
   ]
  },
  {
   "cell_type": "code",
   "execution_count": 277,
   "metadata": {},
   "outputs": [
    {
     "name": "stdout",
     "output_type": "stream",
     "text": [
      "The hash key of the block is :- d9a22d41aff26eb8e02c248f29691565f67a2ac250071c5a9fb3b26e0ed8cc50\n"
     ]
    }
   ],
   "source": [
    "n = hashlib.sha3_256() \n",
    "n.update(b)\n",
    "fakehash3 = n.hexdigest() #Generates a hexadecimal hash key\n",
    "print('The hash key of the block is :-', fakehash3)"
   ]
  },
  {
   "cell_type": "markdown",
   "metadata": {},
   "source": [
    "Adesh, Awaj, Pranjal, Robin, and Sudharsan have a copy of laser that shows the transaction. Lets see the hash key of the blocks everyone have:-  "
   ]
  },
  {
   "cell_type": "code",
   "execution_count": 278,
   "metadata": {},
   "outputs": [
    {
     "name": "stdout",
     "output_type": "stream",
     "text": [
      "The hash key of Adesh's block is f200c2eb529d2c63479cec22c62616b63a5f89080cd3fd461b7dd63e8494cbb7\n",
      "The hash key of Awaj's block is f200c2eb529d2c63479cec22c62616b63a5f89080cd3fd461b7dd63e8494cbb7\n",
      "The hash key of Pranjal's block is d9a22d41aff26eb8e02c248f29691565f67a2ac250071c5a9fb3b26e0ed8cc50\n",
      "The hash key of Robin's block is f200c2eb529d2c63479cec22c62616b63a5f89080cd3fd461b7dd63e8494cbb7\n",
      "The hash key of Subham's block is f200c2eb529d2c63479cec22c62616b63a5f89080cd3fd461b7dd63e8494cbb7\n",
      "The hash key of Sudharsan's block is f200c2eb529d2c63479cec22c62616b63a5f89080cd3fd461b7dd63e8494cbb7\n"
     ]
    }
   ],
   "source": [
    "print(\"The hash key of Adesh's block is\", hash3)\n",
    "print(\"The hash key of Awaj's block is\", hash3)\n",
    "print(\"The hash key of Pranjal's block is\", fakehash3)\n",
    "print(\"The hash key of Robin's block is\", hash3)\n",
    "print(\"The hash key of Subham's block is\", hash3)\n",
    "print(\"The hash key of Sudharsan's block is\", hash3)\n",
    "# See the output something is wrong with pranjal's block"
   ]
  },
  {
   "cell_type": "markdown",
   "metadata": {},
   "source": [
    "Pranjal's trick could have worked in centralized systems, such as banks where the transaction information is not distributed but blockchain just made an unbreakable shild of security because of the democracy it has provided on market economy. Blockchain is claimed to replace Banks like E-mail replaced the antique maileng system. \n",
    "\n",
    "The day he went to claim his money Pranjal got manacles. He is currently serving his sentence of 256 years at the Prison of Azakban. His friends Adesh, Awaj, Robin, Subham and Sudharsan got filthy rich. Each of them own a planet that supports life and have a garage of Falcon Heavy. Thanks to the cryptocurrency they bought that day. As of now, the value of each currency is over a zillion dollars. The create of that cryptocurrency \"Charls Babey\" is still anonymous who is known to be the richest creature in the history of the entire UNIVERSE."
   ]
  },
  {
   "cell_type": "markdown",
   "metadata": {},
   "source": [
    "Lets see how the hash of the blocks following the first block is created. To create a the hash of new block hash of previous block is required. "
   ]
  },
  {
   "cell_type": "code",
   "execution_count": 279,
   "metadata": {},
   "outputs": [],
   "source": [
    "#This block contains additionnal two information\n",
    "top_block = {\n",
    "    'transaction': [\n",
    "        {\n",
    "            'from' : 'Adesh',\n",
    "            'to' : 'Awaj',\n",
    "            'amount' : 50\n",
    "        },\n",
    "        {\n",
    "            'from' : 'Awaj',\n",
    "            'to' : 'ajay',\n",
    "            'amount' : 40\n",
    "        },\n",
    "        {\n",
    "            'from' : 'ajay',\n",
    "            'to' : 'Robin',\n",
    "            'amount' : 30\n",
    "        },\n",
    "        {\n",
    "            'from' : 'Robin',\n",
    "            'to' : 'Subham',\n",
    "            'amount' : 20\n",
    "        },\n",
    "        {\n",
    "            'from' : 'Robin',\n",
    "            'to' : 'Sudharsan',\n",
    "            'amount' : 10,\n",
    "            'message' : 'Thanks'\n",
    "        }\n",
    "    ],\n",
    "    \n",
    "    'last_hash' : hash3,\n",
    "    'nonce': 0 #we will soon see what nonce.for now assume it to be an important intity.\n",
    "}\n"
   ]
  },
  {
   "cell_type": "code",
   "execution_count": 280,
   "metadata": {},
   "outputs": [
    {
     "data": {
      "text/plain": [
       "{'last_hash': 'f200c2eb529d2c63479cec22c62616b63a5f89080cd3fd461b7dd63e8494cbb7',\n",
       " 'nonce': 0,\n",
       " 'transaction': [{'amount': 50, 'from': 'Adesh', 'to': 'Awaj'},\n",
       "  {'amount': 40, 'from': 'Awaj', 'to': 'ajay'},\n",
       "  {'amount': 30, 'from': 'ajay', 'to': 'Robin'},\n",
       "  {'amount': 20, 'from': 'Robin', 'to': 'Subham'},\n",
       "  {'amount': 10, 'from': 'Robin', 'message': 'Thanks', 'to': 'Sudharsan'}]}"
      ]
     },
     "execution_count": 280,
     "metadata": {},
     "output_type": "execute_result"
    }
   ],
   "source": [
    "top_block"
   ]
  },
  {
   "cell_type": "code",
   "execution_count": 281,
   "metadata": {},
   "outputs": [],
   "source": [
    "c = pickle.dumps(top_block)"
   ]
  },
  {
   "cell_type": "code",
   "execution_count": 282,
   "metadata": {},
   "outputs": [
    {
     "name": "stdout",
     "output_type": "stream",
     "text": [
      "The hash key of the block is :- 91d9e9139dc37d30bb390bc5a677f976d83ad34aeb43b86f8768f4b91d0080fb\n"
     ]
    }
   ],
   "source": [
    "o = hashlib.sha3_256() \n",
    "o.update(c)\n",
    "hash4 = o.hexdigest() #Generates a hexadecimal hash key\n",
    "print('The hash key of the block is :-', hash4)"
   ]
  },
  {
   "attachments": {
    "lock.jpg": {
     "image/jpeg": "[encoded data removed]"
    }
   },
   "cell_type": "markdown",
   "metadata": {},
   "source": [
    "## Proof of work\n",
    "Personally, I found this concept quiet complex to grab. So to make an easy start I want to make an analogical comparison of proof of work with a lock.![lock.jpg](attachment:lock.jpg)\n",
    "\n",
    "A lock has a single combination that can unlock it. Finding the right combination to a lock is complex and time-consuming. Once the right combination is found verifying the combination is an easy job, just enter the combination and see if the lock opens. \n",
    "\n",
    "Proof of work is similar to unlocking the lock. \n"
   ]
  },
  {
   "cell_type": "markdown",
   "metadata": {},
   "source": [
    "#### Lets see proof of work blockchain's way\n",
    "In a blockchain technology, Proof-of-work will secure blockchain against spammers and people trying to tamper with blocks and the information it holds. For the security purpose, a hash is not enough it must be valid and follow certain protocols. For example, a valid hash of a block of a bitcoin should start with certain number of zeros (0000a618b...). Likewise, some other system might have a different protocol.\n",
    "\n",
    "###### But! isn't the hash of a block always unique ??\n",
    "Of course! if the information of the block and the previous block is same, but there is something called 'nonce' which is a little indicator that completes the puzzle. Nonce is the only thing that can change in the block, which intern will cause the hash key of the block to change."
   ]
  },
  {
   "cell_type": "markdown",
   "metadata": {},
   "source": [
    "# Nonce\n",
    "Nonce is a variable used to produce the right hash for a block. This variable is arbitrary and can be changed unless the hash key produced for a block can satisfy the protocol. \n",
    "\n",
    "##### suppose:\n",
    "X + 1 = 5 : x > 0\n",
    "\n",
    "Lets assume the only way of finding the solution of the above equation is by hit and trial method. \"X\" is a variable that can be changed to satisfy the equation. \"X\" is like a nonce to a block; its value can change but there is only one right value of X that can satisfy the equation."
   ]
  },
  {
   "cell_type": "markdown",
   "metadata": {},
   "source": [
    "Lets assume our system of the block must have the hash that starts with a 0 (165c3......)."
   ]
  },
  {
   "cell_type": "code",
   "execution_count": 283,
   "metadata": {},
   "outputs": [],
   "source": [
    "difficulty = 1 # This variable holds the number of character that must match our hash protocol currently our hash must start with 1\n",
    "difficuly_string = ''.join(['0' for x in range(difficulty)])"
   ]
  },
  {
   "cell_type": "code",
   "execution_count": 284,
   "metadata": {},
   "outputs": [
    {
     "name": "stdout",
     "output_type": "stream",
     "text": [
      "0\n"
     ]
    }
   ],
   "source": [
    "print(difficuly_string)"
   ]
  },
  {
   "cell_type": "code",
   "execution_count": 285,
   "metadata": {},
   "outputs": [
    {
     "data": {
      "text/plain": [
       "{'last_hash': 'f200c2eb529d2c63479cec22c62616b63a5f89080cd3fd461b7dd63e8494cbb7',\n",
       " 'nonce': 0,\n",
       " 'transaction': [{'amount': 50, 'from': 'Adesh', 'to': 'Awaj'},\n",
       "  {'amount': 40, 'from': 'Awaj', 'to': 'ajay'},\n",
       "  {'amount': 30, 'from': 'ajay', 'to': 'Robin'},\n",
       "  {'amount': 20, 'from': 'Robin', 'to': 'Subham'},\n",
       "  {'amount': 10, 'from': 'Robin', 'message': 'Thanks', 'to': 'Sudharsan'}]}"
      ]
     },
     "execution_count": 285,
     "metadata": {},
     "output_type": "execute_result"
    }
   ],
   "source": [
    "top_block"
   ]
  },
  {
   "cell_type": "code",
   "execution_count": 286,
   "metadata": {},
   "outputs": [
    {
     "name": "stdout",
     "output_type": "stream",
     "text": [
      "Nonce \t  Mined hashes\n",
      "1 )\t  4a848a762432755b1510c7e418e7383d31984777f0b37c32acb8404dbdfdd0f0\n",
      "2 )\t  8e22db405e47fda5394a197603acfa6d4b691c942152d7cf0d2c551a00847c87\n",
      "3 )\t  e351fc2a7b46479311519219d57618342d2bc05f1612f96b26cf0424f9134aac\n",
      "4 )\t  053dc4fc24c38d7228ca944249436170d55253b754b4cc7e1a31bde09503e027\n",
      "Conz! a valid hash is generated. its nonce value is 4\n"
     ]
    }
   ],
   "source": [
    "nonce = 0\n",
    "top_block['nonce'] = 0\n",
    "p = hashlib.sha3_256()\n",
    "print(\"Nonce \\t  Mined hashes\")\n",
    "while p.hexdigest()[:difficulty] != difficuly_string:\n",
    "    nonce += 1\n",
    "    top_block['nonce'] = nonce\n",
    "    p = hashlib.sha3_256()\n",
    "    a = pickle.dumps(top_block)\n",
    "    p.update(a)\n",
    "    print(nonce, \")\\t \", p.hexdigest())\n",
    "\n",
    "print(\"Conz! a valid hash is generated. its nonce value is\", nonce)"
   ]
  },
  {
   "cell_type": "markdown",
   "metadata": {},
   "source": [
    "Now, Lets assume our system of block must have the hash that starts with the no of ones you desire."
   ]
  },
  {
   "cell_type": "code",
   "execution_count": 287,
   "metadata": {},
   "outputs": [
    {
     "name": "stdout",
     "output_type": "stream",
     "text": [
      "Enter the difficulty level2\n"
     ]
    }
   ],
   "source": [
    "difficulty =int(input(\"Enter the difficulty level\")) # make it less than 4 for now\n",
    "difficuly_string = ''.join(['0' for x in range(difficulty)])"
   ]
  },
  {
   "cell_type": "code",
   "execution_count": 288,
   "metadata": {},
   "outputs": [
    {
     "name": "stdout",
     "output_type": "stream",
     "text": [
      "your hash should start with 00\n"
     ]
    }
   ],
   "source": [
    "print(\"your hash should start with\", difficuly_string)"
   ]
  },
  {
   "cell_type": "code",
   "execution_count": 289,
   "metadata": {},
   "outputs": [
    {
     "data": {
      "text/plain": [
       "{'last_hash': 'f200c2eb529d2c63479cec22c62616b63a5f89080cd3fd461b7dd63e8494cbb7',\n",
       " 'nonce': 4,\n",
       " 'transaction': [{'amount': 50, 'from': 'Adesh', 'to': 'Awaj'},\n",
       "  {'amount': 40, 'from': 'Awaj', 'to': 'ajay'},\n",
       "  {'amount': 30, 'from': 'ajay', 'to': 'Robin'},\n",
       "  {'amount': 20, 'from': 'Robin', 'to': 'Subham'},\n",
       "  {'amount': 10, 'from': 'Robin', 'message': 'Thanks', 'to': 'Sudharsan'}]}"
      ]
     },
     "execution_count": 289,
     "metadata": {},
     "output_type": "execute_result"
    }
   ],
   "source": [
    "top_block"
   ]
  },
  {
   "cell_type": "code",
   "execution_count": 290,
   "metadata": {},
   "outputs": [
    {
     "name": "stdout",
     "output_type": "stream",
     "text": [
      "Nonce \t  Mined hashes\n",
      "1 )\t  4a848a762432755b1510c7e418e7383d31984777f0b37c32acb8404dbdfdd0f0\n",
      "2 )\t  8e22db405e47fda5394a197603acfa6d4b691c942152d7cf0d2c551a00847c87\n",
      "3 )\t  e351fc2a7b46479311519219d57618342d2bc05f1612f96b26cf0424f9134aac\n",
      "4 )\t  053dc4fc24c38d7228ca944249436170d55253b754b4cc7e1a31bde09503e027\n",
      "5 )\t  651ed152b8424a4d647284d99f809530d011ba09353cd2db4ddfec94ca380bcc\n",
      "6 )\t  780aede1f6db67c6132b82e56fa1397a890e67a016e5e53a75dc102c5a5017f7\n",
      "7 )\t  52e25a0621299fd1ab738f83ab5e565563a36f3ab8ec8184a18ccc0ca11c0b97\n",
      "8 )\t  43cabc0eac96193e668e82611f44cc441054d3a9c65f338652ac678f630ceeea\n",
      "9 )\t  c9d8ae290f4986b116d6bac41cdbb9fe6fea73082766c3f0a7d964571b13fa39\n",
      "10 )\t  419613c7040a393531d358ad28aebe4edc66677688d7d6fffcefb45ff8e0592e\n",
      "11 )\t  d9b6935a7fc691fe193e5efec4473139e29447e46f7fdebce4f1c9771b4fd54c\n",
      "12 )\t  203d0622f36c8020f2af4e51e6828dc7c14011cf4e0a6475b24dd64668d17108\n",
      "13 )\t  de421e8326d83f1fac219efa2beca5451e6ef073bc1c4ed34b08f73f75215ada\n",
      "14 )\t  728f67c66949e4c55d2561713565f915d22f66cacc145ec28ce8e580dd0e0d0e\n",
      "15 )\t  0b199494434b8991f15cdbb3671f0ccb488d00e1fd6d2ffd6e8a2f6cbe818ee8\n",
      "16 )\t  0077ebcb3e32fbd4f904aa4a541af321595bd9c302337fb9b928f809186c4f92\n",
      "Conz! a valid hash is generated. Its nonce value is 16\n"
     ]
    }
   ],
   "source": [
    "nonce = 0\n",
    "top_block['nonce'] = 0\n",
    "p = hashlib.sha3_256()\n",
    "print(\"Nonce \\t  Mined hashes\")\n",
    "while p.hexdigest()[:difficulty] != difficuly_string:\n",
    "    nonce += 1\n",
    "    top_block['nonce'] = nonce\n",
    "    p = hashlib.sha3_256()\n",
    "    a = pickle.dumps(top_block)\n",
    "    p.update(a)\n",
    "    print(nonce, \")\\t \", p.hexdigest())\n",
    "\n",
    "print(\"Conz! a valid hash is generated. Its nonce value is\", nonce)"
   ]
  },
  {
   "cell_type": "markdown",
   "metadata": {},
   "source": [
    "Notice the result when the difficulty_string was 0 the required hash was formed when the nonce value was 4 and when the difficulty_string level was 00 the required hash was formed when nonce value was 16. In the latter case, it would take more computation power and time to generate a valid hash. "
   ]
  },
  {
   "cell_type": "markdown",
   "metadata": {},
   "source": [
    "Cryptocurrency uses this protocol to protect the system from hacker's invasion and the node that finds a valid hash key for a block get rewarded with certain amount of crypto-currency. This process is also known a mining.\n",
    "\n",
    "## Fun fact:-\n",
    "Currently a hash of a bitcoin's must start with 17 zeros so a hash of a bitcoin would look something like this 0000000000000000057fcc708cf0130d95e27c5819203e9f967ac56e4df598ee. Here, the difficulty = 17 so it would take a lot of computation power or time or both to compute such hash keys.\n",
    "\n",
    "A major drawbacks of this system unnecessary amount of power is consumed to just to find a hash key!"
   ]
  },
  {
   "cell_type": "markdown",
   "metadata": {},
   "source": [
    "# Ending-note with my thoughts\n",
    "###### Isn't it amazing that you can zip all the data of the universe and generate a unique 256-bit hexadecimal hash key that represents the information within the universe but you cannot decode the information of the universe with the same hash key. Hashing simply is a one-way traffic."
   ]
  },
  {
   "cell_type": "markdown",
   "metadata": {},
   "source": [
    "# **************************** END ****************************************"
   ]
  }
 ],
 "metadata": {
  "kernelspec": {
   "display_name": "Python 3",
   "language": "python",
   "name": "python3"
  },
  "language_info": {
   "codemirror_mode": {
    "name": "ipython",
    "version": 3
   },
   "file_extension": ".py",
   "mimetype": "text/x-python",
   "name": "python",
   "nbconvert_exporter": "python",
   "pygments_lexer": "ipython3",
   "version": "3.6.3"
  }
 },
 "nbformat": 4,
 "nbformat_minor": 2
}
